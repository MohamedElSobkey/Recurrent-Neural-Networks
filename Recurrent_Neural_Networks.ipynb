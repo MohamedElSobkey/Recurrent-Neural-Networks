{
  "nbformat": 4,
  "nbformat_minor": 0,
  "metadata": {
    "colab": {
      "private_outputs": true,
      "provenance": [],
      "authorship_tag": "ABX9TyON1ea1isU7hZeqcbhLaran",
      "include_colab_link": true
    },
    "kernelspec": {
      "name": "python3",
      "display_name": "Python 3"
    },
    "language_info": {
      "name": "python"
    }
  },
  "cells": [
    {
      "cell_type": "markdown",
      "metadata": {
        "id": "view-in-github",
        "colab_type": "text"
      },
      "source": [
        "<a href=\"https://colab.research.google.com/github/MohamedElSobkey/Recurrent-Neural-Networks/blob/main/Recurrent_Neural_Networks.ipynb\" target=\"_parent\"><img src=\"https://colab.research.google.com/assets/colab-badge.svg\" alt=\"Open In Colab\"/></a>"
      ]
    },
    {
      "cell_type": "code",
      "execution_count": null,
      "metadata": {
        "id": "B072RothPE_f"
      },
      "outputs": [],
      "source": [
        "import numpy as np\n",
        "import tensorflow as tf\n",
        "from tensorflow.keras.models import Sequential\n",
        "from tensorflow.keras.layers import SimpleRNN, Dense, Embedding\n",
        "from tensorflow.keras.preprocessing.sequence import pad_sequences\n",
        "from tensorflow.keras.preprocessing.text import Tokenizer"
      ]
    },
    {
      "cell_type": "code",
      "source": [
        "# Sample data\n",
        "sentences = [\n",
        "    'I love machine learning',\n",
        "    'Deep learning is amazing',\n",
        "    'RNNs are a type of neural network',\n",
        "    'This is a sample sentence',\n",
        "    'TensorFlow makes it easy to build models'\n",
        "]\n"
      ],
      "metadata": {
        "id": "C2N-UQOKX2TC"
      },
      "execution_count": null,
      "outputs": []
    },
    {
      "cell_type": "code",
      "source": [
        "# Labels for the sentences (for demonstration purposes)\n",
        "labels = np.array([1, 1, 1, 0, 1])  # 1 for positive, 0 for negative\n"
      ],
      "metadata": {
        "id": "m49XafPTYCmk"
      },
      "execution_count": null,
      "outputs": []
    },
    {
      "cell_type": "code",
      "source": [
        "# Tokenize and pad sequences\n",
        "tokenizer = Tokenizer()\n",
        "tokenizer.fit_on_texts(sentences)\n",
        "sequences = tokenizer.texts_to_sequences(sentences)\n",
        "vocab_size = len(tokenizer.word_index) + 1"
      ],
      "metadata": {
        "id": "BGBRGFJmYTeP"
      },
      "execution_count": null,
      "outputs": []
    },
    {
      "cell_type": "code",
      "source": [
        "# Pad sequences to ensure uniform input length\n",
        "max_len = max(len(seq) for seq in sequences)\n",
        "X = pad_sequences(sequences, maxlen=max_len, padding='post')\n"
      ],
      "metadata": {
        "id": "yI9MpO47YVHC"
      },
      "execution_count": null,
      "outputs": []
    },
    {
      "cell_type": "code",
      "source": [
        "# Define the RNN model\n",
        "model = Sequential()\n",
        "model.add(Embedding(input_dim=vocab_size, output_dim=8, input_length=max_len))  # Embedding layer\n",
        "model.add(SimpleRNN(units=50, return_sequences=False))  # RNN layer\n",
        "model.add(Dense(units=1, activation='sigmoid'))  # Output layer\n"
      ],
      "metadata": {
        "id": "r_FjCZhYYkjF"
      },
      "execution_count": null,
      "outputs": []
    },
    {
      "cell_type": "code",
      "source": [
        "# Compile the model\n",
        "model.compile(optimizer='adam', loss='binary_crossentropy', metrics=['accuracy'])\n"
      ],
      "metadata": {
        "id": "N7LYsvfoYoIf"
      },
      "execution_count": null,
      "outputs": []
    },
    {
      "cell_type": "code",
      "source": [
        "# Print model summary\n",
        "model.summary()\n"
      ],
      "metadata": {
        "id": "Tho_wdnvYsRw"
      },
      "execution_count": null,
      "outputs": []
    },
    {
      "cell_type": "code",
      "source": [
        "# Train the model\n",
        "model.fit(X, labels, epochs=5)\n"
      ],
      "metadata": {
        "id": "nTizOcr2YvrY"
      },
      "execution_count": null,
      "outputs": []
    },
    {
      "cell_type": "code",
      "source": [
        "# Test the model with new sentences\n",
        "test_sentences = ['Machine learning is fun', 'I dislike neural networks']\n",
        "test_sequences = tokenizer.texts_to_sequences(test_sentences)\n",
        "test_X = pad_sequences(test_sequences, maxlen=max_len, padding='post')\n",
        "\n",
        "predictions = model.predict(test_X)\n",
        "print(predictions)\n"
      ],
      "metadata": {
        "id": "-4ykiSPrY004"
      },
      "execution_count": null,
      "outputs": []
    }
  ]
}